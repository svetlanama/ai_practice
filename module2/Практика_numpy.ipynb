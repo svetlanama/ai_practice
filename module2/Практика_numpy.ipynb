{
  "nbformat": 4,
  "nbformat_minor": 0,
  "metadata": {
    "colab": {
      "provenance": [],
      "include_colab_link": true
    },
    "kernelspec": {
      "name": "python3",
      "display_name": "Python 3"
    },
    "language_info": {
      "name": "python"
    }
  },
  "cells": [
    {
      "cell_type": "markdown",
      "metadata": {
        "id": "view-in-github",
        "colab_type": "text"
      },
      "source": [
        "<a href=\"https://colab.research.google.com/github/svetlanama/ai_practice/blob/dev/module2/%D0%9F%D1%80%D0%B0%D0%BA%D1%82%D0%B8%D0%BA%D0%B0_numpy.ipynb\" target=\"_parent\"><img src=\"https://colab.research.google.com/assets/colab-badge.svg\" alt=\"Open In Colab\"/></a>"
      ]
    },
    {
      "cell_type": "markdown",
      "source": [
        "Імпортуйте модуль numpy"
      ],
      "metadata": {
        "id": "rIioSM27QJ8x"
      }
    },
    {
      "cell_type": "code",
      "execution_count": 2,
      "metadata": {
        "id": "rDtfBq8ANBhL"
      },
      "outputs": [],
      "source": [
        "\n",
        "import numpy as np"
      ]
    },
    {
      "cell_type": "markdown",
      "source": [
        "# Завдання 1\n",
        "Створіть масив з елементами від 1 до 12. Виведіть розмір та тип масиву"
      ],
      "metadata": {
        "id": "npT_FnlcNwke"
      }
    },
    {
      "cell_type": "code",
      "source": [
        "x = np.arange(1, 13)\n",
        "print(f'{x = }')\n",
        "print(f'{x.shape = }')\n",
        "print(f'{x.dtype = }')"
      ],
      "metadata": {
        "id": "02EdQMKlOZHr",
        "colab": {
          "base_uri": "https://localhost:8080/"
        },
        "outputId": "e0860e34-601f-4db5-8e6f-676c7c5fc4f1"
      },
      "execution_count": 3,
      "outputs": [
        {
          "output_type": "stream",
          "name": "stdout",
          "text": [
            "x = array([ 1,  2,  3,  4,  5,  6,  7,  8,  9, 10, 11, 12])\n",
            "x.shape = (12,)\n",
            "x.dtype = dtype('int64')\n"
          ]
        }
      ]
    },
    {
      "cell_type": "markdown",
      "source": [
        "# Завдання 2\n",
        "Зробіть на основі попереднього масиву матрицю з 4 стовчиками. Змініть тип даних матриці на float32. Виведіть транспоновану матрицю."
      ],
      "metadata": {
        "id": "HH8hOwVhNxWE"
      }
    },
    {
      "cell_type": "code",
      "source": [
        "new_x = x.reshape((-1, 4))\n",
        "new_x = new_x.astype(np.float32)\n",
        "\n",
        "print(new_x.T)"
      ],
      "metadata": {
        "id": "4jYqwTycOYbN",
        "colab": {
          "base_uri": "https://localhost:8080/"
        },
        "outputId": "4918f841-0230-492a-c53e-300bb235958a"
      },
      "execution_count": 4,
      "outputs": [
        {
          "output_type": "stream",
          "name": "stdout",
          "text": [
            "[[ 1.  5.  9.]\n",
            " [ 2.  6. 10.]\n",
            " [ 3.  7. 11.]\n",
            " [ 4.  8. 12.]]\n"
          ]
        }
      ]
    },
    {
      "cell_type": "markdown",
      "source": [
        "#Завдання 3\n",
        "Створіть матрицю 8х8 з 0 та 1 розміщеними в шаховому порядку"
      ],
      "metadata": {
        "id": "T35Vjkz1Nxez"
      }
    },
    {
      "cell_type": "code",
      "source": [
        "board = np.zeros((8, 8), dtype=np.int8)\n",
        "\n",
        "\n",
        "board[::2, ::2] = 1\n",
        "board[1::2, 1::2] = 1\n",
        "\n",
        "board"
      ],
      "metadata": {
        "id": "mrbnfiPQPu_n",
        "colab": {
          "base_uri": "https://localhost:8080/"
        },
        "outputId": "87370e44-0cd2-40d8-b702-14a48716fac8"
      },
      "execution_count": 14,
      "outputs": [
        {
          "output_type": "execute_result",
          "data": {
            "text/plain": [
              "array([[1, 0, 1, 0, 1, 0, 1, 0],\n",
              "       [0, 1, 0, 1, 0, 1, 0, 1],\n",
              "       [1, 0, 1, 0, 1, 0, 1, 0],\n",
              "       [0, 1, 0, 1, 0, 1, 0, 1],\n",
              "       [1, 0, 1, 0, 1, 0, 1, 0],\n",
              "       [0, 1, 0, 1, 0, 1, 0, 1],\n",
              "       [1, 0, 1, 0, 1, 0, 1, 0],\n",
              "       [0, 1, 0, 1, 0, 1, 0, 1]], dtype=int8)"
            ]
          },
          "metadata": {},
          "execution_count": 14
        }
      ]
    },
    {
      "cell_type": "markdown",
      "source": [
        "# Завдання 4\n",
        "Створіть випадкову матрицю 4х3. Знайдіть суму елементів в стовпчиках\\рядках\\усій матриці"
      ],
      "metadata": {
        "id": "g87KAY1nNxoy"
      }
    },
    {
      "cell_type": "code",
      "source": [
        "\n",
        "x = np.random.random((4, 3))\n",
        "\n",
        "print(f'row sum {x.sum(axis=1)}')\n",
        "print(f'column sum {x.sum(axis=0)}')\n",
        "print(f'array sum {x.sum()}')"
      ],
      "metadata": {
        "id": "RGA3022VQIZV",
        "colab": {
          "base_uri": "https://localhost:8080/"
        },
        "outputId": "c160dcb9-f92c-4cd5-9b47-1c32db02047f"
      },
      "execution_count": 26,
      "outputs": [
        {
          "output_type": "stream",
          "name": "stdout",
          "text": [
            "row sum [2.17124244 2.26349135 1.50242383 1.14946208]\n",
            "column sum [2.24307367 2.66092034 2.18262569]\n",
            "array sum 7.086619701119127\n"
          ]
        }
      ]
    },
    {
      "cell_type": "markdown",
      "source": [
        "# Завдання 5\n",
        "У попередній матриці від кожного рядка відніміть максимальний елемент цього рядка"
      ],
      "metadata": {
        "id": "AGH0TVVBNxx9"
      }
    },
    {
      "cell_type": "code",
      "source": [
        "max_row = x.max(axis=1, keepdims=True)\n",
        "\n",
        "new_x = x - max_row\n",
        "\n",
        "new_x"
      ],
      "metadata": {
        "id": "TVYjbsBDQHTU",
        "colab": {
          "base_uri": "https://localhost:8080/"
        },
        "outputId": "b4e59f7b-82f1-4a29-b047-6ad96d71dca9"
      },
      "execution_count": 27,
      "outputs": [
        {
          "output_type": "execute_result",
          "data": {
            "text/plain": [
              "array([[-0.09298828, -0.2481251 ,  0.        ],\n",
              "       [-0.22329679,  0.        , -0.38783965],\n",
              "       [-0.2178813 ,  0.        , -0.61566737],\n",
              "       [-0.40889267, -0.27708726,  0.        ]])"
            ]
          },
          "metadata": {},
          "execution_count": 27
        }
      ]
    },
    {
      "cell_type": "markdown",
      "source": [
        "# Завдання 6\n",
        "Є дані про вагу контейнерів для перевезення на кораблі: дрібний - 5 т,  малий - 10 т, середній - 25 т, великий - 40 т. На кораблі розміщено 20 дрібних, 5 малих, 10 середніх та 4 великих контейнерів. Знайти масу вантажу."
      ],
      "metadata": {
        "id": "cH8WhnsjQsXi"
      }
    },
    {
      "cell_type": "code",
      "source": [
        "\n",
        "weights = np.array([5, 10, 25, 40])\n",
        "counts = np.array([20, 5, 10, 4])\n",
        "\n",
        "total = counts @ weights\n",
        "total"
      ],
      "metadata": {
        "id": "BYrqqe9WR6g7",
        "colab": {
          "base_uri": "https://localhost:8080/"
        },
        "outputId": "95346eae-29a5-4d4e-f319-ef8adda5574b"
      },
      "execution_count": 28,
      "outputs": [
        {
          "output_type": "execute_result",
          "data": {
            "text/plain": [
              "560"
            ]
          },
          "metadata": {},
          "execution_count": 28
        }
      ]
    },
    {
      "cell_type": "markdown",
      "source": [
        "# Завдання 7\n",
        "Тепер у нас декілька кораблів. Напишіть код для обчислення вантажу на кожному кораблі."
      ],
      "metadata": {
        "id": "IhdiDOh3Qrmb"
      }
    },
    {
      "cell_type": "code",
      "source": [
        "weights = np.array([5, 10, 25, 40])\n",
        "\n",
        "counts = np.array([[20, 5, 10, 4],\n",
        "                   [10, 10, 7, 3],\n",
        "                   [30, 5, 2, 0]\n",
        "                   ])\n",
        "\n",
        "total = counts @ weights\n",
        "\n",
        "total"
      ],
      "metadata": {
        "id": "gVUXPdFhSI95",
        "colab": {
          "base_uri": "https://localhost:8080/"
        },
        "outputId": "f8226d46-ed54-483d-e876-7159c2fcd4c4"
      },
      "execution_count": 29,
      "outputs": [
        {
          "output_type": "execute_result",
          "data": {
            "text/plain": [
              "array([560, 445, 250])"
            ]
          },
          "metadata": {},
          "execution_count": 29
        }
      ]
    }
  ]
}